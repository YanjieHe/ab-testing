{
 "cells": [
  {
   "cell_type": "markdown",
   "metadata": {},
   "source": [
    "### Import Relevant Modules"
   ]
  },
  {
   "cell_type": "code",
   "execution_count": 1,
   "metadata": {
    "collapsed": true
   },
   "outputs": [],
   "source": [
    "import pandas as pd\n",
    "%matplotlib inline\n",
    "\n",
    "import math\n",
    "import scipy.stats as stats\n",
    "\n",
    "import numpy as np\n",
    "import matplotlib.pyplot as plt\n",
    "\n",
    "from statsmodels.stats.proportion import proportions_ztest\n",
    "from statsmodels.stats.proportion import proportions_chisquare\n",
    "\n",
    "import seaborn as sns\n",
    "sns.set(color_codes=True)\n",
    "\n",
    "#from datetime import datetime\n",
    "from datetime import timedelta\n",
    "import datetime\n",
    "import time\n",
    "import os"
   ]
  },
  {
   "cell_type": "code",
   "execution_count": 3,
   "metadata": {},
   "outputs": [],
   "source": [
    "# Plotting Colors\n",
    "color_hex_list = ['#88CCEE', '#CC6677', '#DDCC77', '#117733', '#332288', '#E58606',  '#999933', '#882255', '#661100', \n",
    " '#5D69B1', '#52BCA3', '#99C945', '#CC61B0', '#24796C', '#DAA51B', '#2F8AC4', '#764E9F', '#ED645A']"
   ]
  },
  {
   "cell_type": "markdown",
   "metadata": {},
   "source": [
    "---"
   ]
  },
  {
   "cell_type": "markdown",
   "metadata": {},
   "source": [
    "# SET UP: PRE TEST\n",
    "\n",
    "## Sample Size\n",
    "Please note that specifying the sample size should have been done **prior** to running the test. \n",
    "\n",
    "If you prefer to use a website to calculate the sample size, I would highly recommend this [one](https://www.evanmiller.org/ab-testing/sample-size.html) (the numbers are going to be very very close to what you see below).\n",
    "\n",
    "If you would like more details about each of the variables used in calculating the sample size and how they impact it, please see the original A/B Testing Playbook [here](https://github.com/newsela/jupyter-notebooks/blob/master/AB%20Test%20-%20Playbook.ipynb)."
   ]
  },
  {
   "cell_type": "markdown",
   "metadata": {},
   "source": [
    "##### ~ Set up Variables ~"
   ]
  },
  {
   "cell_type": "code",
   "execution_count": 4,
   "metadata": {
    "collapsed": true
   },
   "outputs": [],
   "source": [
    "# Variables needed to determine the required sample size for test\n",
    "baseline_probability = 0.10\n",
    "beta = 0.2\n",
    "alpha = 0.05\n",
    "effectSize = 0.01\n",
    "\n",
    "# Specify if you would like to run a one-sided test or two-sided test\n",
    "one_sided = True "
   ]
  },
  {
   "cell_type": "markdown",
   "metadata": {},
   "source": [
    "#### Based on the above metrics..."
   ]
  },
  {
   "cell_type": "code",
   "execution_count": 5,
   "metadata": {},
   "outputs": [
    {
     "name": "stdout",
     "output_type": "stream",
     "text": [
      "Baseline Conversion (pr) =  10.0 %\n",
      "Confidence Level =  95.0 %\n",
      "Alpha Z-score (za) =  1.64\n",
      "Power =  80.0 %\n",
      "Beta Z-score (zb) =  0.84\n",
      "Effect Size (E) =  1.0 %\n"
     ]
    }
   ],
   "source": [
    "alpha_Zscore = stats.norm.ppf(1-alpha*(1-0.5*(1-one_sided)))\n",
    "beta_Zscore = stats.norm.ppf(1-beta)\n",
    "\n",
    "print('Baseline Conversion (pr) = ', baseline_probability*100, '%')\n",
    "print('Confidence Level = ', (1-alpha)*100, '%')\n",
    "print('Alpha Z-score (za) = ', round(alpha_Zscore,2))\n",
    "print('Power = ', (1-beta)*100, '%')\n",
    "print('Beta Z-score (zb) = ', round(beta_Zscore,2))\n",
    "print('Effect Size (E) = ', effectSize*100, '%')"
   ]
  },
  {
   "cell_type": "markdown",
   "metadata": {},
   "source": [
    "#### Per Sample Traffic"
   ]
  },
  {
   "cell_type": "code",
   "execution_count": 6,
   "metadata": {},
   "outputs": [
    {
     "name": "stdout",
     "output_type": "stream",
     "text": [
      "Sample Size (per variation)= 11129.0\n"
     ]
    }
   ],
   "source": [
    "def sample_size(E, za, zb, pr):\n",
    "    variance = pr*(1-pr)  # largest when pr = 0.5, use when you don't have any baseline estimate\n",
    "    z = (za+zb)**2\n",
    "    top = 2*variance*z\n",
    "    bottom = E**2\n",
    "    n = top/bottom\n",
    "    return n\n",
    "\n",
    "n = sample_size(effectSize, alpha_Zscore, beta_Zscore, baseline_probability)\n",
    "print('Sample Size (per variation)=',round(n,0))"
   ]
  },
  {
   "cell_type": "markdown",
   "metadata": {},
   "source": [
    "## Determining Minimum Detectable Effect Size\n",
    "- Given our alpha and beta and sample size, can we actually claim there is a dfference in our test samples of that size?\n",
    "- In order to detect a smaller effect size, we will need to have a larger sample size (make sure that this is taken into account when sizing the test intially)."
   ]
  },
  {
   "cell_type": "code",
   "execution_count": 7,
   "metadata": {},
   "outputs": [
    {
     "data": {
      "text/plain": [
       "0.01"
      ]
     },
     "execution_count": 7,
     "metadata": {},
     "output_type": "execute_result"
    }
   ],
   "source": [
    "# Create a formula that takes sample size instead of effect size\n",
    "def measurable_effect_size(n, za, zb, pr):\n",
    "    variance = pr*(1-pr)  # largest when pr = 0.5, use when you don't have any baseline estimate\n",
    "    z = (za+zb)**2\n",
    "    top = 2*variance*z\n",
    "    bottom = n\n",
    "    E = math.sqrt(top/n)\n",
    "    return E\n",
    "\n",
    "# What is the current minimal detectable effect size? (should be the same one as you specified above)\n",
    "measurable_effect_size(n, alpha_Zscore, beta_Zscore, baseline_probability)"
   ]
  },
  {
   "cell_type": "markdown",
   "metadata": {},
   "source": [
    "## Alpha Cutoff \n",
    "An important note about multiple samples and Type I Error. Also known as Familywise Error Rate (Alpha Inflation)."
   ]
  },
  {
   "cell_type": "markdown",
   "metadata": {},
   "source": [
    "##### ~ Set up Variables ~\n",
    "Were any of the versions a second control (A/A test)? Will any of the versions be ignored in the final evaluation? What will be the final number of segments compared?"
   ]
  },
  {
   "cell_type": "code",
   "execution_count": 8,
   "metadata": {
    "collapsed": true
   },
   "outputs": [],
   "source": [
    "segments = 5"
   ]
  },
  {
   "cell_type": "markdown",
   "metadata": {},
   "source": [
    "The probability of at least one type 1 error in x independent tests. This is something to be conscientious when selecting the number of test groups and the alpha cutoff level."
   ]
  },
  {
   "cell_type": "code",
   "execution_count": 9,
   "metadata": {},
   "outputs": [
    {
     "data": {
      "text/plain": [
       "0.22621906250000023"
      ]
     },
     "execution_count": 9,
     "metadata": {},
     "output_type": "execute_result"
    }
   ],
   "source": [
    "1 - (1-alpha)**segments"
   ]
  },
  {
   "cell_type": "markdown",
   "metadata": {},
   "source": [
    "**Bonferroni Adjustment**"
   ]
  },
  {
   "cell_type": "code",
   "execution_count": 10,
   "metadata": {},
   "outputs": [
    {
     "name": "stdout",
     "output_type": "stream",
     "text": [
      "A possible correction for multiple comparisons:\n",
      "Test each hypothesis at level α∗ = (α/segments) = (0.05/5) = 0.01 (where 5 is number of segments in example).\n",
      "Adjustment ensures overall Type I error rate does not exceed α = 0.05\n",
      "However, this adjustment may be too conservative.\n"
     ]
    }
   ],
   "source": [
    "print(\"A possible correction for multiple comparisons:\")\n",
    "print(\"Test each hypothesis at level α∗ = (α/segments) = ({a}/{seg}) = {aseg} (where {seg} is number of segments in example).\".format(a=alpha, seg=segments, aseg = alpha/segments))\n",
    "print(\"Adjustment ensures overall Type I error rate does not exceed α = 0.05\")\n",
    "print(\"However, this adjustment may be too conservative.\")"
   ]
  },
  {
   "cell_type": "markdown",
   "metadata": {},
   "source": [
    "---"
   ]
  },
  {
   "cell_type": "markdown",
   "metadata": {},
   "source": [
    "# SET UP: PROPORTIONAL DATA"
   ]
  },
  {
   "cell_type": "markdown",
   "metadata": {},
   "source": [
    "An ideal dataset will have user level data, date stamps, both the traffic (whether it be visits or visitors depending on the purpose of the test), and test vartions (or category) that you'd like to compare."
   ]
  },
  {
   "cell_type": "markdown",
   "metadata": {},
   "source": [
    "##### ~ Set up Variables ~\n",
    "Load in data and update any variable names below to match your table data. If you have already validated the A/A results, feel free to remove from the final analysis."
   ]
  },
  {
   "cell_type": "code",
   "execution_count": 11,
   "metadata": {},
   "outputs": [
    {
     "data": {
      "text/html": [
       "<div>\n",
       "<style scoped>\n",
       "    .dataframe tbody tr th:only-of-type {\n",
       "        vertical-align: middle;\n",
       "    }\n",
       "\n",
       "    .dataframe tbody tr th {\n",
       "        vertical-align: top;\n",
       "    }\n",
       "\n",
       "    .dataframe thead th {\n",
       "        text-align: right;\n",
       "    }\n",
       "</style>\n",
       "<table border=\"1\" class=\"dataframe\">\n",
       "  <thead>\n",
       "    <tr style=\"text-align: right;\">\n",
       "      <th></th>\n",
       "      <th>Unnamed: 0</th>\n",
       "      <th>user_id</th>\n",
       "      <th>date</th>\n",
       "      <th>study</th>\n",
       "      <th>is_student</th>\n",
       "      <th>search</th>\n",
       "      <th>click</th>\n",
       "    </tr>\n",
       "  </thead>\n",
       "  <tbody>\n",
       "    <tr>\n",
       "      <th>11583</th>\n",
       "      <td>11583</td>\n",
       "      <td>17220357</td>\n",
       "      <td>2018-04-03</td>\n",
       "      <td>pubdate_decay_b</td>\n",
       "      <td>True</td>\n",
       "      <td>3.0</td>\n",
       "      <td>1.0</td>\n",
       "    </tr>\n",
       "    <tr>\n",
       "      <th>38178</th>\n",
       "      <td>38178</td>\n",
       "      <td>23204545</td>\n",
       "      <td>2018-04-03</td>\n",
       "      <td>pubdate_decay_e</td>\n",
       "      <td>True</td>\n",
       "      <td>6.0</td>\n",
       "      <td>3.0</td>\n",
       "    </tr>\n",
       "    <tr>\n",
       "      <th>21879</th>\n",
       "      <td>21879</td>\n",
       "      <td>20466501</td>\n",
       "      <td>2018-04-03</td>\n",
       "      <td>pubdate_decay_b</td>\n",
       "      <td>True</td>\n",
       "      <td>2.0</td>\n",
       "      <td>0.0</td>\n",
       "    </tr>\n",
       "    <tr>\n",
       "      <th>21878</th>\n",
       "      <td>21878</td>\n",
       "      <td>20466501</td>\n",
       "      <td>2018-04-03</td>\n",
       "      <td>default</td>\n",
       "      <td>True</td>\n",
       "      <td>2.0</td>\n",
       "      <td>0.0</td>\n",
       "    </tr>\n",
       "    <tr>\n",
       "      <th>38184</th>\n",
       "      <td>38184</td>\n",
       "      <td>23204644</td>\n",
       "      <td>2018-04-03</td>\n",
       "      <td>default</td>\n",
       "      <td>True</td>\n",
       "      <td>1.0</td>\n",
       "      <td>0.0</td>\n",
       "    </tr>\n",
       "  </tbody>\n",
       "</table>\n",
       "</div>"
      ],
      "text/plain": [
       "       Unnamed: 0   user_id       date            study  is_student  search  \\\n",
       "11583       11583  17220357 2018-04-03  pubdate_decay_b        True     3.0   \n",
       "38178       38178  23204545 2018-04-03  pubdate_decay_e        True     6.0   \n",
       "21879       21879  20466501 2018-04-03  pubdate_decay_b        True     2.0   \n",
       "21878       21878  20466501 2018-04-03          default        True     2.0   \n",
       "38184       38184  23204644 2018-04-03          default        True     1.0   \n",
       "\n",
       "       click  \n",
       "11583    1.0  \n",
       "38178    3.0  \n",
       "21879    0.0  \n",
       "21878    0.0  \n",
       "38184    0.0  "
      ]
     },
     "execution_count": 11,
     "metadata": {},
     "output_type": "execute_result"
    }
   ],
   "source": [
    "# Load the raw data file into a dataframe (make sure to grab the latest version)\n",
    "file_name = 'Sample Data.csv'\n",
    "\n",
    "# If there is a date column, please add it below\n",
    "date = 'latest_login'\n",
    "\n",
    "# Update the column where the date is stored in the converters section below, if no such column, remove the conversion\n",
    "data = pd.read_csv('/Users/Leonova/Repos/ab-testing/Data/' + file_name,\n",
    "                  converters= {date1: pd.to_datetime} )\n",
    "\n",
    "# No action required: Leave the original dataframe untouched and sort the new dataframe\n",
    "d2 = data.copy()\n",
    "d2 = d2.sort_values(date1, ascending = True)\n",
    "\n",
    "# OPTIONAL: Specify audience (when appropriate)\n",
    "# d2 = d2[d2['type'] == True]\n",
    "\n",
    "# OPTIONAL: Specify date range (if not using the full data set)\n",
    "# d2['date'] == datetime.date(2018, 4, 2)\n",
    "\n",
    "# Name for numerator and denominator of the conversion rate\n",
    "traffic_label = 'liked'\n",
    "conversion_label = 'clicked'\n",
    "\n",
    "# Grouping column names\n",
    "user_label = 'user_id'\n",
    "date_label = 'cohort_date'\n",
    "segment_label = 'version'\n",
    "\n",
    "\n",
    "# No action required. \n",
    "# List of names of unique names of the segments\n",
    "segment_list = list(d2[segment_label].unique())\n",
    "\n",
    "# OPTIONAL: Remove any variations (perhaps variation 1 is another Control for A/A Testing)\n",
    "# segment_list.remove('pubdate_decay_a')\n",
    "\n",
    "d2.head()"
   ]
  },
  {
   "cell_type": "markdown",
   "metadata": {},
   "source": [
    "#### Segment Summary"
   ]
  },
  {
   "cell_type": "code",
   "execution_count": 12,
   "metadata": {},
   "outputs": [
    {
     "name": "stdout",
     "output_type": "stream",
     "text": [
      "Different segments:  ['pubdate_decay_b', 'pubdate_decay_e', 'default', 'pubdate_decay_d', 'pubdate_decay_c', 'pubdate_decay_a']\n",
      "Number of segments:  6\n"
     ]
    }
   ],
   "source": [
    "# Count of the number of segments (or total test variations)\n",
    "variations = len(segment_list)\n",
    "\n",
    "# Verify that the segments/categories are correct \n",
    "print('Different segments: ',segment_list)\n",
    "print('Number of segments: ', variations)"
   ]
  },
  {
   "cell_type": "markdown",
   "metadata": {},
   "source": [
    "### Daily Usage"
   ]
  },
  {
   "cell_type": "code",
   "execution_count": 13,
   "metadata": {},
   "outputs": [
    {
     "data": {
      "image/png": "[encoded data removed]",
      "text/plain": [
       "<matplotlib.figure.Figure at 0x1a178bf400>"
      ]
     },
     "metadata": {},
     "output_type": "display_data"
    }
   ],
   "source": [
    "# Create Dataframes which aggregate the data by day\n",
    "daily_users = pd.DataFrame(d2.groupby(date_label)[user_label].nunique()).reset_index()\n",
    "daily_traffic = pd.DataFrame(d2.groupby(date_label)[traffic_label].sum()).reset_index()\n",
    "daily_conversions = pd.DataFrame(d2.groupby(date_label)[conversion_label].sum()).reset_index()\n",
    "\n",
    "\n",
    "# Plot Figures\n",
    "plt.subplots(figsize=(13, 6))\n",
    "plt.plot(pd.to_datetime(daily_users[date_label]), daily_users[user_label], label = 'users')\n",
    "plt.plot(pd.to_datetime(daily_traffic[date_label]), daily_traffic[traffic_label], label = ('traffic: ' + traffic_label))\n",
    "plt.plot(pd.to_datetime(daily_conversions[date_label]), daily_conversions[conversion_label], label = ('conversion: ' + conversion_label))\n",
    "\n",
    "# Chart Labels and Font Size\n",
    "plt.xlabel('Date', fontsize=15)\n",
    "plt.xticks(fontsize=15, rotation=30)\n",
    "plt.yticks(fontsize=15)\n",
    "plt.title('Daily: Users, Traffic & Conversions', fontsize=18)\n",
    "plt.legend(fontsize=15)\n",
    "plt.show()"
   ]
  },
  {
   "cell_type": "markdown",
   "metadata": {},
   "source": [
    "#### Overall Conversion Rate"
   ]
  },
  {
   "cell_type": "code",
   "execution_count": 14,
   "metadata": {},
   "outputs": [
    {
     "data": {
      "text/plain": [
       "12.36"
      ]
     },
     "execution_count": 14,
     "metadata": {},
     "output_type": "execute_result"
    }
   ],
   "source": [
    "round((daily_conversions[conversion_label]/daily_traffic[traffic_label]).mean()*100,2)"
   ]
  },
  {
   "cell_type": "markdown",
   "metadata": {},
   "source": [
    "#### Average Overall Traffic per User"
   ]
  },
  {
   "cell_type": "code",
   "execution_count": 15,
   "metadata": {},
   "outputs": [
    {
     "data": {
      "text/plain": [
       "4.07"
      ]
     },
     "execution_count": 15,
     "metadata": {},
     "output_type": "execute_result"
    }
   ],
   "source": [
    "round((daily_traffic[traffic_label]/daily_users[user_label]).mean(),2)"
   ]
  },
  {
   "cell_type": "markdown",
   "metadata": {},
   "source": [
    "#### Average Overall Conversions per User"
   ]
  },
  {
   "cell_type": "code",
   "execution_count": 16,
   "metadata": {},
   "outputs": [
    {
     "data": {
      "text/plain": [
       "0.5"
      ]
     },
     "execution_count": 16,
     "metadata": {},
     "output_type": "execute_result"
    }
   ],
   "source": [
    "round((daily_conversions[conversion_label]/daily_users[user_label]).mean(),2)"
   ]
  },
  {
   "cell_type": "markdown",
   "metadata": {},
   "source": [
    "### Daily Segment Volatility Chart"
   ]
  },
  {
   "cell_type": "code",
   "execution_count": 17,
   "metadata": {},
   "outputs": [
    {
     "data": {
      "image/png": "[encoded data removed]",
      "text/plain": [
       "<matplotlib.figure.Figure at 0x1a177a3eb8>"
      ]
     },
     "metadata": {},
     "output_type": "display_data"
    }
   ],
   "source": [
    "# Group data by day\n",
    "daily_segment_traffic = pd.DataFrame(d2.groupby([date_label, segment_label])[traffic_label].sum()).reset_index()\n",
    "daily_segment_conversions = pd.DataFrame(d2.groupby([date_label, segment_label])[conversion_label].sum()).reset_index()\n",
    "\n",
    "daily_segment_conv_rate = pd.merge(daily_segment_traffic, daily_segment_conversions, on = [date_label, segment_label], how = 'left')\n",
    "daily_segment_conv_rate['conversion_rate'] = 100*daily_segment_conv_rate[conversion_label]/daily_segment_conv_rate[traffic_label] \n",
    "\n",
    "\n",
    "# Plot Figures\n",
    "plt.subplots(figsize=(13, 6))\n",
    "\n",
    "for i in range(0, variations):\n",
    "    df = daily_segment_conv_rate[daily_segment_conv_rate[segment_label] == segment_list[i] ]\n",
    "    plt.plot(pd.to_datetime(df[date_label]), df['conversion_rate'], label = segment_list[i], color= color_hex_list[i])\n",
    "\n",
    "# Chart Labels and Font Size\n",
    "plt.xlabel('Date', fontsize=15)\n",
    "plt.ylabel('% Conversion', fontsize=15)\n",
    "\n",
    "plt.xticks(fontsize=15, rotation=30)\n",
    "plt.yticks(fontsize=15)\n",
    "chart_title = 'Daily % Conversion per Segment ({}/{})'.format(conversion_label, traffic_label)\n",
    "plt.title(chart_title, fontsize=18)\n",
    "plt.legend(fontsize=15)\n",
    "plt.show()"
   ]
  },
  {
   "cell_type": "markdown",
   "metadata": {},
   "source": [
    "### Create Simplified Table"
   ]
  },
  {
   "cell_type": "code",
   "execution_count": 19,
   "metadata": {},
   "outputs": [
    {
     "data": {
      "text/html": [
       "<div>\n",
       "<style scoped>\n",
       "    .dataframe tbody tr th:only-of-type {\n",
       "        vertical-align: middle;\n",
       "    }\n",
       "\n",
       "    .dataframe tbody tr th {\n",
       "        vertical-align: top;\n",
       "    }\n",
       "\n",
       "    .dataframe thead th {\n",
       "        text-align: right;\n",
       "    }\n",
       "</style>\n",
       "<table border=\"1\" class=\"dataframe\">\n",
       "  <thead>\n",
       "    <tr style=\"text-align: right;\">\n",
       "      <th></th>\n",
       "      <th>converted</th>\n",
       "      <th>traffic</th>\n",
       "    </tr>\n",
       "  </thead>\n",
       "  <tbody>\n",
       "    <tr>\n",
       "      <th>pubdate_decay_b</th>\n",
       "      <td>3175.0</td>\n",
       "      <td>27650.0</td>\n",
       "    </tr>\n",
       "    <tr>\n",
       "      <th>pubdate_decay_e</th>\n",
       "      <td>3074.0</td>\n",
       "      <td>27252.0</td>\n",
       "    </tr>\n",
       "    <tr>\n",
       "      <th>default</th>\n",
       "      <td>3049.0</td>\n",
       "      <td>27578.0</td>\n",
       "    </tr>\n",
       "    <tr>\n",
       "      <th>pubdate_decay_d</th>\n",
       "      <td>3186.0</td>\n",
       "      <td>26598.0</td>\n",
       "    </tr>\n",
       "    <tr>\n",
       "      <th>pubdate_decay_c</th>\n",
       "      <td>3026.0</td>\n",
       "      <td>26601.0</td>\n",
       "    </tr>\n",
       "    <tr>\n",
       "      <th>pubdate_decay_a</th>\n",
       "      <td>1534.0</td>\n",
       "      <td>13137.0</td>\n",
       "    </tr>\n",
       "  </tbody>\n",
       "</table>\n",
       "</div>"
      ],
      "text/plain": [
       "                 converted  traffic\n",
       "pubdate_decay_b     3175.0  27650.0\n",
       "pubdate_decay_e     3074.0  27252.0\n",
       "default             3049.0  27578.0\n",
       "pubdate_decay_d     3186.0  26598.0\n",
       "pubdate_decay_c     3026.0  26601.0\n",
       "pubdate_decay_a     1534.0  13137.0"
      ]
     },
     "execution_count": 19,
     "metadata": {},
     "output_type": "execute_result"
    }
   ],
   "source": [
    "# Create a loop to aggregate the traffic and conversion for each segment.\n",
    "\n",
    "# Specify the 'traffic' column and the 'conversion' column \n",
    "aggregation_column = [traffic_label, conversion_label]\n",
    "\n",
    "# Create empty lists to populate in the loop below\n",
    "traffic = []\n",
    "conversions = [] \n",
    "\n",
    "# This table will the underlying table used in the subsequent sections to analyze the test results.\n",
    "for i in range(variations):\n",
    "    v, c = d2[d2[segment_label] == segment_list[i] ][aggregation_column[:2]].sum()\n",
    "\n",
    "    traffic.append(v)\n",
    "    conversions.append(c)\n",
    "    \n",
    "    \n",
    "# Create a Simple Data Frame for Proportions (from the above lists)   \n",
    "dfp_simple = pd.DataFrame({\n",
    "    \"converted\": conversions,\n",
    "    \"traffic\": traffic\n",
    "}, index = segment_list)\n",
    "\n",
    "dfp_simple"
   ]
  },
  {
   "cell_type": "markdown",
   "metadata": {},
   "source": [
    "### Additional Columns"
   ]
  },
  {
   "cell_type": "code",
   "execution_count": 20,
   "metadata": {
    "scrolled": true
   },
   "outputs": [
    {
     "data": {
      "text/html": [
       "<div>\n",
       "<style scoped>\n",
       "    .dataframe tbody tr th:only-of-type {\n",
       "        vertical-align: middle;\n",
       "    }\n",
       "\n",
       "    .dataframe tbody tr th {\n",
       "        vertical-align: top;\n",
       "    }\n",
       "\n",
       "    .dataframe thead th {\n",
       "        text-align: right;\n",
       "    }\n",
       "</style>\n",
       "<table border=\"1\" class=\"dataframe\">\n",
       "  <thead>\n",
       "    <tr style=\"text-align: right;\">\n",
       "      <th></th>\n",
       "      <th>converted</th>\n",
       "      <th>traffic</th>\n",
       "      <th>not_converted</th>\n",
       "      <th>converted_proportion</th>\n",
       "      <th>standard_error</th>\n",
       "      <th>population_percentage</th>\n",
       "    </tr>\n",
       "  </thead>\n",
       "  <tbody>\n",
       "    <tr>\n",
       "      <th>default</th>\n",
       "      <td>3049.0</td>\n",
       "      <td>27578.0</td>\n",
       "      <td>24529.0</td>\n",
       "      <td>0.110559</td>\n",
       "      <td>0.001888</td>\n",
       "      <td>0.185316</td>\n",
       "    </tr>\n",
       "    <tr>\n",
       "      <th>pubdate_decay_a</th>\n",
       "      <td>1534.0</td>\n",
       "      <td>13137.0</td>\n",
       "      <td>11603.0</td>\n",
       "      <td>0.116769</td>\n",
       "      <td>0.002802</td>\n",
       "      <td>0.088277</td>\n",
       "    </tr>\n",
       "    <tr>\n",
       "      <th>pubdate_decay_b</th>\n",
       "      <td>3175.0</td>\n",
       "      <td>27650.0</td>\n",
       "      <td>24475.0</td>\n",
       "      <td>0.114828</td>\n",
       "      <td>0.001917</td>\n",
       "      <td>0.185800</td>\n",
       "    </tr>\n",
       "    <tr>\n",
       "      <th>pubdate_decay_c</th>\n",
       "      <td>3026.0</td>\n",
       "      <td>26601.0</td>\n",
       "      <td>23575.0</td>\n",
       "      <td>0.113755</td>\n",
       "      <td>0.001947</td>\n",
       "      <td>0.178751</td>\n",
       "    </tr>\n",
       "    <tr>\n",
       "      <th>pubdate_decay_d</th>\n",
       "      <td>3186.0</td>\n",
       "      <td>26598.0</td>\n",
       "      <td>23412.0</td>\n",
       "      <td>0.119783</td>\n",
       "      <td>0.001991</td>\n",
       "      <td>0.178731</td>\n",
       "    </tr>\n",
       "    <tr>\n",
       "      <th>pubdate_decay_e</th>\n",
       "      <td>3074.0</td>\n",
       "      <td>27252.0</td>\n",
       "      <td>24178.0</td>\n",
       "      <td>0.112799</td>\n",
       "      <td>0.001916</td>\n",
       "      <td>0.183125</td>\n",
       "    </tr>\n",
       "    <tr>\n",
       "      <th>Total</th>\n",
       "      <td>17044.0</td>\n",
       "      <td>148816.0</td>\n",
       "      <td>131772.0</td>\n",
       "      <td>0.114531</td>\n",
       "      <td>0.000826</td>\n",
       "      <td>1.000000</td>\n",
       "    </tr>\n",
       "  </tbody>\n",
       "</table>\n",
       "</div>"
      ],
      "text/plain": [
       "                 converted   traffic  not_converted  converted_proportion  \\\n",
       "default             3049.0   27578.0        24529.0              0.110559   \n",
       "pubdate_decay_a     1534.0   13137.0        11603.0              0.116769   \n",
       "pubdate_decay_b     3175.0   27650.0        24475.0              0.114828   \n",
       "pubdate_decay_c     3026.0   26601.0        23575.0              0.113755   \n",
       "pubdate_decay_d     3186.0   26598.0        23412.0              0.119783   \n",
       "pubdate_decay_e     3074.0   27252.0        24178.0              0.112799   \n",
       "Total              17044.0  148816.0       131772.0              0.114531   \n",
       "\n",
       "                 standard_error  population_percentage  \n",
       "default                0.001888               0.185316  \n",
       "pubdate_decay_a        0.002802               0.088277  \n",
       "pubdate_decay_b        0.001917               0.185800  \n",
       "pubdate_decay_c        0.001947               0.178751  \n",
       "pubdate_decay_d        0.001991               0.178731  \n",
       "pubdate_decay_e        0.001916               0.183125  \n",
       "Total                  0.000826               1.000000  "
      ]
     },
     "execution_count": 20,
     "metadata": {},
     "output_type": "execute_result"
    }
   ],
   "source": [
    "dfp = dfp_simple.copy().sort_index()\n",
    "\n",
    "# Sum up all the columns\n",
    "dfp.loc['Total'] = dfp.sum()\n",
    "\n",
    "# What were the non conversions?\n",
    "dfp['not_converted'] = dfp['traffic'] - dfp['converted']\n",
    "\n",
    "# What were the different segement conversions (as well as overall)?\n",
    "proportion = dfp.converted/dfp.traffic\n",
    "dfp['converted_proportion'] = proportion\n",
    "\n",
    "# Standard Error\n",
    "dfp['standard_error'] = ((proportion * (1-proportion))/dfp.traffic)**(.5)\n",
    "\n",
    "# Calculate the traffic percentage in each variation\n",
    "n = dfp.loc['Total']['traffic']\n",
    "dfp['population_percentage'] = dfp['traffic']/n\n",
    "\n",
    "dfp"
   ]
  },
  {
   "cell_type": "markdown",
   "metadata": {},
   "source": [
    "### Plot the Conversion Rates"
   ]
  },
  {
   "cell_type": "code",
   "execution_count": 22,
   "metadata": {},
   "outputs": [
    {
     "data": {
      "image/png": "[encoded data removed]",
      "text/plain": [
       "<matplotlib.figure.Figure at 0x1a161a0c88>"
      ]
     },
     "metadata": {},
     "output_type": "display_data"
    }
   ],
   "source": [
    "# Bar Plot Inputs\n",
    "labels = dfp.index[:-1].tolist()\n",
    "label_index = np.arange(len(labels))\n",
    "values = (round(dfp['converted_proportion'][:-1]*100,2)).tolist()\n",
    "half_ci = (round(dfp['standard_error'][:-1]*1.96*100,2)).tolist()\n",
    "\n",
    "# Plot the Conversion Rate of each segment and the sample standard error\n",
    "plt.subplots(figsize=(13, 6))\n",
    "plt.bar(label_index, values, yerr=half_ci, alpha=0.75,\n",
    "       color= color_hex_list[0:len(labels)],\n",
    "       error_kw=dict(ecolor='black', lw=2, capsize=5, capthick=2))\n",
    "plt.xlabel('Segment', fontsize=15)\n",
    "plt.ylabel('% Conversion', fontsize=15)\n",
    "plt.xticks(label_index, labels, fontsize=13, rotation=30)\n",
    "plt.yticks(fontsize=15)\n",
    "plt.title('Conversion Rate per Segment', fontsize=18)\n",
    "plt.show()"
   ]
  },
  {
   "cell_type": "markdown",
   "metadata": {},
   "source": [
    "**IMPORTANT:** Please do not make any conclusions from the above graph alone. The formulas below call out segments that are statistically significant."
   ]
  },
  {
   "cell_type": "markdown",
   "metadata": {},
   "source": [
    "---"
   ]
  },
  {
   "cell_type": "markdown",
   "metadata": {},
   "source": [
    "# TEST EVALUATION"
   ]
  },
  {
   "cell_type": "markdown",
   "metadata": {},
   "source": [
    "## 2 Sample Proportion\n",
    "*Type of test: z-test*\n",
    "\n",
    "If you would prefer to use an online calculator (only for 2 samples), I would recommend this [one](https://abtestguide.com/calc/)."
   ]
  },
  {
   "cell_type": "markdown",
   "metadata": {},
   "source": [
    "##### ~ Set up Variables ~"
   ]
  },
  {
   "cell_type": "code",
   "execution_count": 23,
   "metadata": {
    "collapsed": true
   },
   "outputs": [],
   "source": [
    "# Set up Variables (choose which two segments you'd like to compare)\n",
    "variation1 = 'default'\n",
    "variation2 = 'pubdate_decay_a'"
   ]
  },
  {
   "cell_type": "markdown",
   "metadata": {},
   "source": [
    "### Summary of Input Variables"
   ]
  },
  {
   "cell_type": "code",
   "execution_count": 24,
   "metadata": {},
   "outputs": [
    {
     "name": "stdout",
     "output_type": "stream",
     "text": [
      "default Converted: 3049.0\n",
      "default Traffic: 27578.0\n",
      "pubdate_decay_a Converted: 1534.0\n",
      "pubdate_decay_a Traffic: 13137.0\n"
     ]
    }
   ],
   "source": [
    "# Variable inputs\n",
    "x1 = dfp.loc[variation1]['converted']\n",
    "n1 = dfp.loc[variation1]['traffic']\n",
    "x2 = dfp.loc[variation2]['converted']\n",
    "n2 = dfp.loc[variation2]['traffic']\n",
    "\n",
    "print(variation1, 'Converted:', x1)\n",
    "print(variation1, 'Traffic:', n1)\n",
    "print(variation2, 'Converted:', x2)\n",
    "print(variation2, 'Traffic:', n2)"
   ]
  },
  {
   "cell_type": "markdown",
   "metadata": {},
   "source": [
    "### Evaluate Results"
   ]
  },
  {
   "cell_type": "code",
   "execution_count": 25,
   "metadata": {},
   "outputs": [
    {
     "name": "stdout",
     "output_type": "stream",
     "text": [
      "Proportion ( default ): 11.06%\n",
      "Proportion ( pubdate_decay_a ): 11.68%\n",
      "Pooled Sample Proportion: 11.26%\n",
      "Absolute Percent Difference Between Samples: 0.62%\n",
      "Relative Percent Difference Between Samples: 5.62%\n",
      "\n",
      "Variance: 0.0011%\n",
      "Standard Error: 0.34%\n",
      "\n",
      "z-stat: -1.853521168423394\n",
      "p-value: 0.03190384745834518\n"
     ]
    }
   ],
   "source": [
    "p1 = x1/n1\n",
    "p2 = x2/n2\n",
    "p = (x1+x2)/(n1+n2)\n",
    "print('Proportion (', variation1 ,'): {0:.2f}%'.format(100*p1))\n",
    "print('Proportion (', variation2 ,'): {0:.2f}%'.format(100*p2))\n",
    "print('Pooled Sample Proportion: {0:.2f}%'.format(100*p))\n",
    "print('Absolute Percent Difference Between Samples: {0:.2f}%'.format(100*(p2-p1)))\n",
    "print('Relative Percent Difference Between Samples: {0:.2f}%'.format(100*(p2-p1)/p1))\n",
    "\n",
    "\n",
    "var = p*(1-p)*(1/n1+1/n2)\n",
    "se = math.sqrt(var)\n",
    "print('\\nVariance: {0:.4f}%'.format(100*var))\n",
    "print('Standard Error: {0:.2f}%'.format(100*se))\n",
    "\n",
    "z = (p1-p2)/se\n",
    "pvalue = 1-stats.norm.cdf(abs(z))\n",
    "pvalue *= 2-one_sided\n",
    "print('\\nz-stat: {z}'.format(z=z))\n",
    "print('p-value: {p}'.format(p=pvalue))"
   ]
  },
  {
   "cell_type": "markdown",
   "metadata": {},
   "source": [
    "### Detectable Difference\n",
    "Does it meet our test set up metrics? Given our sample size (take the lowest of the two examples), are we able to actually detect the above `Absolute Percent Difference Between Samples`?"
   ]
  },
  {
   "cell_type": "code",
   "execution_count": 26,
   "metadata": {},
   "outputs": [
    {
     "data": {
      "text/plain": [
       "0.009620703648732187"
      ]
     },
     "execution_count": 26,
     "metadata": {},
     "output_type": "execute_result"
    }
   ],
   "source": [
    "min_detectable_effect_size = measurable_effect_size(min([n1, n2]), alpha_Zscore, beta_Zscore, p1)\n",
    "min_detectable_effect_size"
   ]
  },
  {
   "cell_type": "markdown",
   "metadata": {},
   "source": [
    "**Need more data?**\n",
    "\n",
    "Do we need to collect more data for these two samples?"
   ]
  },
  {
   "cell_type": "code",
   "execution_count": 27,
   "metadata": {},
   "outputs": [
    {
     "name": "stdout",
     "output_type": "stream",
     "text": [
      "Yes, we need to collect more data to make a claim of signficance about the above difference. \n",
      "\n",
      "STOP\n"
     ]
    }
   ],
   "source": [
    "abs(p2-p1) >= min_detectable_effect_size\n",
    "\n",
    "if abs(p2-p1) >= min_detectable_effect_size:\n",
    "   print(\"No, we do not need to collect more data to verify whether this difference is truly statistically significant.\")\n",
    "else:\n",
    "   print(\"Yes, we need to collect more data to make a claim of signficance about the above difference. \\n\\nSTOP\")"
   ]
  },
  {
   "cell_type": "markdown",
   "metadata": {},
   "source": [
    "#### Result Interpretation\n",
    "Before going to this step, make sure we do not need to collect more data."
   ]
  },
  {
   "cell_type": "code",
   "execution_count": 28,
   "metadata": {},
   "outputs": [
    {
     "name": "stdout",
     "output_type": "stream",
     "text": [
      "Is the p-value 0.0319 less than the cutoff, alpha, 0.05?\n",
      "\n",
      "The p-value is smaller than the cutoff, therefore we reject the null-hypothesis (null-hypothesis = no difference).\n"
     ]
    }
   ],
   "source": [
    "print('Is the p-value {p} less than the cutoff, alpha, {alpha}?\\n'.format(p=round(pvalue,5), alpha=alpha))\n",
    "if (pvalue < alpha):\n",
    "    print('The p-value is smaller than the cutoff, therefore we reject the null-hypothesis (null-hypothesis = no difference).')\n",
    "else: \n",
    "    print('Fail to reject the null-hypothesis.')"
   ]
  },
  {
   "cell_type": "markdown",
   "metadata": {},
   "source": [
    "### Confidence Interval - for Effect Size"
   ]
  },
  {
   "cell_type": "code",
   "execution_count": 29,
   "metadata": {},
   "outputs": [
    {
     "name": "stdout",
     "output_type": "stream",
     "text": [
      " 95% Confidence Interval = ( 0.07% , 1.17% )\n"
     ]
    }
   ],
   "source": [
    "# Calculate the z-stat for selected one or two tailed test\n",
    "z_critical = stats.norm.ppf(1-alpha*(1-0.5*(1-one_sided)))\n",
    "\n",
    "# Calculate the lower and upper confidence intervals for the difference between the samples\n",
    "ci_low = (p2-p1) - z_critical*se\n",
    "ci_upp = (p2-p1) + z_critical*se\n",
    "\n",
    "print(' 95% Confidence Interval = ( {0:.2f}% , {1:.2f}% )'\n",
    "      .format(100*ci_low, 100*ci_upp))"
   ]
  },
  {
   "cell_type": "markdown",
   "metadata": {},
   "source": [
    "### Stats Model Formula"
   ]
  },
  {
   "cell_type": "markdown",
   "metadata": {},
   "source": [
    "The below is the same as the result above, but for a two-tailed test."
   ]
  },
  {
   "cell_type": "code",
   "execution_count": 30,
   "metadata": {},
   "outputs": [
    {
     "name": "stdout",
     "output_type": "stream",
     "text": [
      "z-stat: -1.8535\n",
      "p-value: 0.03190385\n"
     ]
    }
   ],
   "source": [
    "counts = np.array([x1, x2])\n",
    "nobs = np.array([n1, n2])\n",
    "\n",
    "# Options for alternative parameter  [‘two-sided’, ‘smaller’, ‘larger’]\n",
    "stat, pval = proportions_ztest(counts, nobs, alternative = 'smaller')\n",
    "print('z-stat: {0:.4f}'.format(stat))\n",
    "print('p-value: {0:.8f}'.format(pval))"
   ]
  },
  {
   "cell_type": "markdown",
   "metadata": {},
   "source": [
    "#### Extra"
   ]
  },
  {
   "cell_type": "code",
   "execution_count": 31,
   "metadata": {},
   "outputs": [
    {
     "name": "stdout",
     "output_type": "stream",
     "text": [
      "p-value: 0.06380769491669036\n"
     ]
    }
   ],
   "source": [
    "# 2 Tailed Result\n",
    "pvalue = 1-stats.norm.cdf(abs(z))\n",
    "pvalue *= 2-False\n",
    "print('p-value: {p}'.format(p=pvalue))"
   ]
  },
  {
   "cell_type": "code",
   "execution_count": 32,
   "metadata": {},
   "outputs": [
    {
     "name": "stdout",
     "output_type": "stream",
     "text": [
      "p-value: 0.03190384745834518\n"
     ]
    }
   ],
   "source": [
    "# 1 Tailed Result\n",
    "pvalue = 1-stats.norm.cdf(abs(z))\n",
    "pvalue *= 2-True\n",
    "print('p-value: {p}'.format(p=pvalue))"
   ]
  },
  {
   "cell_type": "markdown",
   "metadata": {},
   "source": [
    "## 2+ Sample Proportion\n",
    "*Type of test: Chi Square*"
   ]
  },
  {
   "cell_type": "markdown",
   "metadata": {},
   "source": [
    "**Guiding Questions**\n",
    "- Do we expect the observed frequencies to perfectly match the expected frequencies if the null hypothesis is true?\n",
    "- How likely is it to find a discrepancy this extreme or more if our null hypothesis is true?\n",
    "\n",
    "**Hypotheses**\n",
    "- H0: There is no association between segment and conversion\n",
    "- HA: There is an association between segment and conversion\n",
    "    - But we don’t know (for sure) which request types have different proportions from each other → inference or estimation on pairwise proportion differences (see Marascuilo Procedure below to answer this question). "
   ]
  },
  {
   "cell_type": "markdown",
   "metadata": {},
   "source": [
    "### Main Question: \n",
    "Is there a difference between any of the versions?"
   ]
  },
  {
   "cell_type": "markdown",
   "metadata": {},
   "source": [
    "### Observed Proportions"
   ]
  },
  {
   "cell_type": "code",
   "execution_count": 33,
   "metadata": {},
   "outputs": [
    {
     "data": {
      "text/html": [
       "<div>\n",
       "<style scoped>\n",
       "    .dataframe tbody tr th:only-of-type {\n",
       "        vertical-align: middle;\n",
       "    }\n",
       "\n",
       "    .dataframe tbody tr th {\n",
       "        vertical-align: top;\n",
       "    }\n",
       "\n",
       "    .dataframe thead th {\n",
       "        text-align: right;\n",
       "    }\n",
       "</style>\n",
       "<table border=\"1\" class=\"dataframe\">\n",
       "  <thead>\n",
       "    <tr style=\"text-align: right;\">\n",
       "      <th></th>\n",
       "      <th>default</th>\n",
       "      <th>pubdate_decay_a</th>\n",
       "      <th>pubdate_decay_b</th>\n",
       "      <th>pubdate_decay_c</th>\n",
       "      <th>pubdate_decay_d</th>\n",
       "      <th>pubdate_decay_e</th>\n",
       "      <th>Total</th>\n",
       "    </tr>\n",
       "  </thead>\n",
       "  <tbody>\n",
       "    <tr>\n",
       "      <th>converted</th>\n",
       "      <td>3049.0</td>\n",
       "      <td>1534.0</td>\n",
       "      <td>3175.0</td>\n",
       "      <td>3026.0</td>\n",
       "      <td>3186.0</td>\n",
       "      <td>3074.0</td>\n",
       "      <td>17044.0</td>\n",
       "    </tr>\n",
       "    <tr>\n",
       "      <th>not_converted</th>\n",
       "      <td>24529.0</td>\n",
       "      <td>11603.0</td>\n",
       "      <td>24475.0</td>\n",
       "      <td>23575.0</td>\n",
       "      <td>23412.0</td>\n",
       "      <td>24178.0</td>\n",
       "      <td>131772.0</td>\n",
       "    </tr>\n",
       "    <tr>\n",
       "      <th>traffic</th>\n",
       "      <td>27578.0</td>\n",
       "      <td>13137.0</td>\n",
       "      <td>27650.0</td>\n",
       "      <td>26601.0</td>\n",
       "      <td>26598.0</td>\n",
       "      <td>27252.0</td>\n",
       "      <td>148816.0</td>\n",
       "    </tr>\n",
       "  </tbody>\n",
       "</table>\n",
       "</div>"
      ],
      "text/plain": [
       "               default  pubdate_decay_a  pubdate_decay_b  pubdate_decay_c  \\\n",
       "converted       3049.0           1534.0           3175.0           3026.0   \n",
       "not_converted  24529.0          11603.0          24475.0          23575.0   \n",
       "traffic        27578.0          13137.0          27650.0          26601.0   \n",
       "\n",
       "               pubdate_decay_d  pubdate_decay_e     Total  \n",
       "converted               3186.0           3074.0   17044.0  \n",
       "not_converted          23412.0          24178.0  131772.0  \n",
       "traffic                26598.0          27252.0  148816.0  "
      ]
     },
     "execution_count": 33,
     "metadata": {},
     "output_type": "execute_result"
    }
   ],
   "source": [
    "# DataFrame Proportion Transposed Observed = dfpTo\n",
    "dfpTo = dfp[['converted', 'not_converted', 'traffic']].T\n",
    "dfpTo"
   ]
  },
  {
   "cell_type": "markdown",
   "metadata": {},
   "source": [
    "### Expected Proportions"
   ]
  },
  {
   "cell_type": "code",
   "execution_count": 34,
   "metadata": {},
   "outputs": [
    {
     "data": {
      "text/html": [
       "<div>\n",
       "<style scoped>\n",
       "    .dataframe tbody tr th:only-of-type {\n",
       "        vertical-align: middle;\n",
       "    }\n",
       "\n",
       "    .dataframe tbody tr th {\n",
       "        vertical-align: top;\n",
       "    }\n",
       "\n",
       "    .dataframe thead th {\n",
       "        text-align: right;\n",
       "    }\n",
       "</style>\n",
       "<table border=\"1\" class=\"dataframe\">\n",
       "  <thead>\n",
       "    <tr style=\"text-align: right;\">\n",
       "      <th></th>\n",
       "      <th>default</th>\n",
       "      <th>pubdate_decay_a</th>\n",
       "      <th>pubdate_decay_b</th>\n",
       "      <th>pubdate_decay_c</th>\n",
       "      <th>pubdate_decay_d</th>\n",
       "      <th>pubdate_decay_e</th>\n",
       "      <th>Total</th>\n",
       "    </tr>\n",
       "  </thead>\n",
       "  <tbody>\n",
       "    <tr>\n",
       "      <th>converted</th>\n",
       "      <td>3158.527524</td>\n",
       "      <td>1504.589748</td>\n",
       "      <td>3166.773734</td>\n",
       "      <td>3046.631034</td>\n",
       "      <td>3046.287442</td>\n",
       "      <td>3121.190517</td>\n",
       "      <td>17044.0</td>\n",
       "    </tr>\n",
       "    <tr>\n",
       "      <th>not_converted</th>\n",
       "      <td>24419.472476</td>\n",
       "      <td>11632.410252</td>\n",
       "      <td>24483.226266</td>\n",
       "      <td>23554.368966</td>\n",
       "      <td>23551.712558</td>\n",
       "      <td>24130.809483</td>\n",
       "      <td>131772.0</td>\n",
       "    </tr>\n",
       "    <tr>\n",
       "      <th>traffic</th>\n",
       "      <td>27578.000000</td>\n",
       "      <td>13137.000000</td>\n",
       "      <td>27650.000000</td>\n",
       "      <td>26601.000000</td>\n",
       "      <td>26598.000000</td>\n",
       "      <td>27252.000000</td>\n",
       "      <td>148816.0</td>\n",
       "    </tr>\n",
       "  </tbody>\n",
       "</table>\n",
       "</div>"
      ],
      "text/plain": [
       "                    default  pubdate_decay_a  pubdate_decay_b  \\\n",
       "converted       3158.527524      1504.589748      3166.773734   \n",
       "not_converted  24419.472476     11632.410252     24483.226266   \n",
       "traffic        27578.000000     13137.000000     27650.000000   \n",
       "\n",
       "               pubdate_decay_c  pubdate_decay_d  pubdate_decay_e     Total  \n",
       "converted          3046.631034      3046.287442      3121.190517   17044.0  \n",
       "not_converted     23554.368966     23551.712558     24130.809483  131772.0  \n",
       "traffic           26601.000000     26598.000000     27252.000000  148816.0  "
      ]
     },
     "execution_count": 34,
     "metadata": {},
     "output_type": "execute_result"
    }
   ],
   "source": [
    "# DataFrame Proportion Transposed Expected = dfpTe\n",
    "dfpTe = dfpTo.copy()\n",
    "\n",
    "# Replace with expected values\n",
    "for i in range(variations):\n",
    "    for j in range(0, 2):\n",
    "        dfpTe.iloc[j,i] = (dfpTo.loc['traffic'][i]*dfpTo['Total'][j])/n\n",
    "\n",
    "dfpTe"
   ]
  },
  {
   "cell_type": "markdown",
   "metadata": {},
   "source": [
    "### Calculate Chi Square and p-value"
   ]
  },
  {
   "cell_type": "code",
   "execution_count": 35,
   "metadata": {},
   "outputs": [
    {
     "data": {
      "text/plain": [
       "13.162716085013036"
      ]
     },
     "execution_count": 35,
     "metadata": {},
     "output_type": "execute_result"
    }
   ],
   "source": [
    "# Drop the last column AND drop the last row (the columns with the totals)\n",
    "o = dfpTo.drop(dfpTo.columns[-1], axis = 1)[:-1]\n",
    "e = dfpTe.drop(dfpTe.columns[-1], axis = 1)[:-1]\n",
    "\n",
    "ss = (o-e)**2/e\n",
    "ch2 = ss.values.sum()\n",
    "ch2"
   ]
  },
  {
   "cell_type": "code",
   "execution_count": 37,
   "metadata": {},
   "outputs": [
    {
     "data": {
      "text/plain": [
       "0.021900733249048843"
      ]
     },
     "execution_count": 37,
     "metadata": {},
     "output_type": "execute_result"
    }
   ],
   "source": [
    "# P-value for a chi score with variations-1 degrees of freedom\n",
    "pvalue_chi = 1 - stats.chi2.cdf(ch2, variations-1)\n",
    "pvalue_chi"
   ]
  },
  {
   "cell_type": "markdown",
   "metadata": {},
   "source": [
    "#### Result Interpretation"
   ]
  },
  {
   "cell_type": "code",
   "execution_count": 38,
   "metadata": {},
   "outputs": [
    {
     "name": "stdout",
     "output_type": "stream",
     "text": [
      "Is the p-value 0.0219 less than the cutoff, alpha, 0.05?\n",
      "\n",
      "The p-value is smaller than the cutoff, therefore we reject the null-hypothesis (null-hypothesis = no difference).\n"
     ]
    }
   ],
   "source": [
    "print('Is the p-value {p} less than the cutoff, alpha, {alpha}?\\n'.format(p=round(pvalue_chi,5), alpha=alpha))\n",
    "if (pvalue < alpha):\n",
    "    print('The p-value is smaller than the cutoff, therefore we reject the null-hypothesis (null-hypothesis = no difference).')\n",
    "else: \n",
    "    print('Fail to reject the null-hypothesis.')"
   ]
  },
  {
   "cell_type": "markdown",
   "metadata": {},
   "source": [
    "#### Stats Model Formula"
   ]
  },
  {
   "cell_type": "code",
   "execution_count": 39,
   "metadata": {
    "scrolled": true
   },
   "outputs": [
    {
     "data": {
      "text/plain": [
       "(13.162716085013036, 0.021900733249048846, (array([[ 3175., 24475.],\n",
       "         [ 3074., 24178.],\n",
       "         [ 3049., 24529.],\n",
       "         [ 3186., 23412.],\n",
       "         [ 3026., 23575.],\n",
       "         [ 1534., 11603.]]), array([[ 3166.77373401, 24483.22626599],\n",
       "         [ 3121.19051715, 24130.80948285],\n",
       "         [ 3158.52752392, 24419.47247608],\n",
       "         [ 3046.28744221, 23551.71255779],\n",
       "         [ 3046.6310343 , 23554.3689657 ],\n",
       "         [ 1504.58974841, 11632.41025159]])))"
      ]
     },
     "execution_count": 39,
     "metadata": {},
     "output_type": "execute_result"
    }
   ],
   "source": [
    "# stat, pval, margins = proportions_chisquare(counts, nobs)\n",
    "proportions_chisquare(dfp_simple.converted, dfp_simple.traffic) "
   ]
  },
  {
   "cell_type": "markdown",
   "metadata": {},
   "source": [
    "---"
   ]
  },
  {
   "cell_type": "markdown",
   "metadata": {},
   "source": [
    "### Main Question: \n",
    "Which versions performed better than the others, if any?"
   ]
  },
  {
   "cell_type": "markdown",
   "metadata": {},
   "source": [
    "### Marascuilo Procedure (Similar to Tukey-Kramer Test)\n",
    "Calculate which proportions are statistically different. (Reference: https://www.itl.nist.gov/div898/handbook/prc/section4/prc474.htm)\n",
    "\n",
    "Iterate through all the possible pairwise tests."
   ]
  },
  {
   "cell_type": "code",
   "execution_count": 40,
   "metadata": {
    "collapsed": true
   },
   "outputs": [],
   "source": [
    "# Create lists to iterate through\n",
    "prp = list(dfp_simple['converted']/dfp_simple['traffic'])\n",
    "vis = list(dfp_simple['traffic'])\n",
    "seg = list(dfp_simple.index.values)\n",
    "\n",
    "# Calculate the chi square stat\n",
    "c2 = stats.chi2.cdf(ch2, variations-1)\n",
    "\n",
    "# Empty lists (to be populated in the for loop)\n",
    "diff = []\n",
    "critical_value = []\n",
    "segment1 = []\n",
    "segment2 = []\n",
    "proportion1 = []\n",
    "proportion2 = []\n",
    "segment1_size = []\n",
    "segment2_size = []\n",
    "smallest_measurable_effect_size = []"
   ]
  },
  {
   "cell_type": "code",
   "execution_count": 41,
   "metadata": {},
   "outputs": [
    {
     "name": "stdout",
     "output_type": "stream",
     "text": [
      "15\n",
      "15\n",
      "15\n",
      "15\n"
     ]
    }
   ],
   "source": [
    "# Pairwise comparisons (iterate through all combinations)\n",
    "for i in range(0,(variations)):\n",
    "    for j in range((i+1),variations):\n",
    "        segment1.append(seg[i])\n",
    "        segment2.append(seg[j])\n",
    "        \n",
    "        proportion1.append(prp[i])\n",
    "        proportion2.append(prp[j])\n",
    "        \n",
    "        segment1_size.append(vis[i])\n",
    "        segment2_size.append(vis[j])\n",
    "        smaller_sample_size = min(vis[i], vis[j])\n",
    "        # Use the maximum of the two proportions, more conservative, to calculate minimal detectable effect size in the next step\n",
    "        max_proportion = max(prp[i], prp[j])\n",
    "        es = measurable_effect_size(smaller_sample_size, alpha_Zscore, beta_Zscore, max_proportion)\n",
    "        smallest_measurable_effect_size.append(es)\n",
    "\n",
    "        d = prp[i]-prp[j]\n",
    "        diff.append(d)\n",
    "    \n",
    "        cr = math.sqrt(c2)*math.sqrt(prp[i]*(1-prp[i])/vis[i] + prp[j]*(1-prp[j])/vis[j])\n",
    "        critical_value.append(cr)\n",
    "\n",
    "# Verify that every list is the same length\n",
    "print(len(segment1))\n",
    "print(len(segment2)) \n",
    "print(len(diff))\n",
    "print(len(critical_value))"
   ]
  },
  {
   "cell_type": "code",
   "execution_count": 43,
   "metadata": {},
   "outputs": [],
   "source": [
    "# Create a new dataframe for the Marascuilo Procedure Calculations\n",
    "dfm = []\n",
    "dfm = pd.DataFrame({\n",
    "    \"segment1\" : segment1,\n",
    "    \"segment2\" : segment2,\n",
    "    \"segment1_size\": segment1_size,\n",
    "    \"segment2_size\": segment2_size,\n",
    "    \"proportion1\": proportion1,\n",
    "    \"proportion2\": proportion2,\n",
    "    \"smallest_measurable_effect_size\": smallest_measurable_effect_size,\n",
    "    \"diff\": diff,\n",
    "    \"critical_value\": critical_value\n",
    "})"
   ]
  },
  {
   "cell_type": "markdown",
   "metadata": {},
   "source": [
    "### Determine significance at the alpha level\n",
    "Based on our test setup and population per segment, are we able to make a claim on the statistical significance of our results?\n",
    "\n",
    "Test Setup\n",
    "- reliability - alpha \n",
    "- power - beta \n",
    "- sample size\n",
    "- effect size"
   ]
  },
  {
   "cell_type": "code",
   "execution_count": 45,
   "metadata": {},
   "outputs": [
    {
     "data": {
      "text/html": [
       "<div>\n",
       "<style scoped>\n",
       "    .dataframe tbody tr th:only-of-type {\n",
       "        vertical-align: middle;\n",
       "    }\n",
       "\n",
       "    .dataframe tbody tr th {\n",
       "        vertical-align: top;\n",
       "    }\n",
       "\n",
       "    .dataframe thead th {\n",
       "        text-align: right;\n",
       "    }\n",
       "</style>\n",
       "<table border=\"1\" class=\"dataframe\">\n",
       "  <thead>\n",
       "    <tr style=\"text-align: right;\">\n",
       "      <th></th>\n",
       "      <th>segment1</th>\n",
       "      <th>proportion1</th>\n",
       "      <th>segment2</th>\n",
       "      <th>proportion2</th>\n",
       "      <th>diff</th>\n",
       "      <th>smallest_measurable_effect_size</th>\n",
       "      <th>critical_value</th>\n",
       "      <th>significant</th>\n",
       "      <th>signficant_effect_size</th>\n",
       "    </tr>\n",
       "  </thead>\n",
       "  <tbody>\n",
       "    <tr>\n",
       "      <th>12</th>\n",
       "      <td>pubdate_decay_d</td>\n",
       "      <td>0.119783</td>\n",
       "      <td>pubdate_decay_c</td>\n",
       "      <td>0.113755</td>\n",
       "      <td>0.006028</td>\n",
       "      <td>0.007001</td>\n",
       "      <td>0.002754</td>\n",
       "      <td>True</td>\n",
       "      <td>False</td>\n",
       "    </tr>\n",
       "    <tr>\n",
       "      <th>1</th>\n",
       "      <td>pubdate_decay_b</td>\n",
       "      <td>0.114828</td>\n",
       "      <td>default</td>\n",
       "      <td>0.110559</td>\n",
       "      <td>0.004269</td>\n",
       "      <td>0.006751</td>\n",
       "      <td>0.002661</td>\n",
       "      <td>True</td>\n",
       "      <td>False</td>\n",
       "    </tr>\n",
       "    <tr>\n",
       "      <th>13</th>\n",
       "      <td>pubdate_decay_d</td>\n",
       "      <td>0.119783</td>\n",
       "      <td>pubdate_decay_a</td>\n",
       "      <td>0.116769</td>\n",
       "      <td>0.003014</td>\n",
       "      <td>0.009962</td>\n",
       "      <td>0.003399</td>\n",
       "      <td>False</td>\n",
       "      <td>False</td>\n",
       "    </tr>\n",
       "    <tr>\n",
       "      <th>5</th>\n",
       "      <td>pubdate_decay_e</td>\n",
       "      <td>0.112799</td>\n",
       "      <td>default</td>\n",
       "      <td>0.110559</td>\n",
       "      <td>0.002240</td>\n",
       "      <td>0.006739</td>\n",
       "      <td>0.002661</td>\n",
       "      <td>False</td>\n",
       "      <td>False</td>\n",
       "    </tr>\n",
       "    <tr>\n",
       "      <th>0</th>\n",
       "      <td>pubdate_decay_b</td>\n",
       "      <td>0.114828</td>\n",
       "      <td>pubdate_decay_e</td>\n",
       "      <td>0.112799</td>\n",
       "      <td>0.002029</td>\n",
       "      <td>0.006791</td>\n",
       "      <td>0.002681</td>\n",
       "      <td>False</td>\n",
       "      <td>False</td>\n",
       "    </tr>\n",
       "    <tr>\n",
       "      <th>3</th>\n",
       "      <td>pubdate_decay_b</td>\n",
       "      <td>0.114828</td>\n",
       "      <td>pubdate_decay_c</td>\n",
       "      <td>0.113755</td>\n",
       "      <td>0.001073</td>\n",
       "      <td>0.006874</td>\n",
       "      <td>0.002702</td>\n",
       "      <td>False</td>\n",
       "      <td>False</td>\n",
       "    </tr>\n",
       "    <tr>\n",
       "      <th>7</th>\n",
       "      <td>pubdate_decay_e</td>\n",
       "      <td>0.112799</td>\n",
       "      <td>pubdate_decay_c</td>\n",
       "      <td>0.113755</td>\n",
       "      <td>-0.000956</td>\n",
       "      <td>0.006846</td>\n",
       "      <td>0.002702</td>\n",
       "      <td>False</td>\n",
       "      <td>False</td>\n",
       "    </tr>\n",
       "    <tr>\n",
       "      <th>4</th>\n",
       "      <td>pubdate_decay_b</td>\n",
       "      <td>0.114828</td>\n",
       "      <td>pubdate_decay_a</td>\n",
       "      <td>0.116769</td>\n",
       "      <td>-0.001941</td>\n",
       "      <td>0.009853</td>\n",
       "      <td>0.003358</td>\n",
       "      <td>False</td>\n",
       "      <td>False</td>\n",
       "    </tr>\n",
       "    <tr>\n",
       "      <th>14</th>\n",
       "      <td>pubdate_decay_c</td>\n",
       "      <td>0.113755</td>\n",
       "      <td>pubdate_decay_a</td>\n",
       "      <td>0.116769</td>\n",
       "      <td>-0.003014</td>\n",
       "      <td>0.009853</td>\n",
       "      <td>0.003374</td>\n",
       "      <td>False</td>\n",
       "      <td>False</td>\n",
       "    </tr>\n",
       "    <tr>\n",
       "      <th>10</th>\n",
       "      <td>default</td>\n",
       "      <td>0.110559</td>\n",
       "      <td>pubdate_decay_c</td>\n",
       "      <td>0.113755</td>\n",
       "      <td>-0.003196</td>\n",
       "      <td>0.006846</td>\n",
       "      <td>0.002682</td>\n",
       "      <td>True</td>\n",
       "      <td>False</td>\n",
       "    </tr>\n",
       "    <tr>\n",
       "      <th>8</th>\n",
       "      <td>pubdate_decay_e</td>\n",
       "      <td>0.112799</td>\n",
       "      <td>pubdate_decay_a</td>\n",
       "      <td>0.116769</td>\n",
       "      <td>-0.003970</td>\n",
       "      <td>0.009853</td>\n",
       "      <td>0.003357</td>\n",
       "      <td>True</td>\n",
       "      <td>False</td>\n",
       "    </tr>\n",
       "    <tr>\n",
       "      <th>2</th>\n",
       "      <td>pubdate_decay_b</td>\n",
       "      <td>0.114828</td>\n",
       "      <td>pubdate_decay_d</td>\n",
       "      <td>0.119783</td>\n",
       "      <td>-0.004955</td>\n",
       "      <td>0.007001</td>\n",
       "      <td>0.002734</td>\n",
       "      <td>True</td>\n",
       "      <td>False</td>\n",
       "    </tr>\n",
       "    <tr>\n",
       "      <th>11</th>\n",
       "      <td>default</td>\n",
       "      <td>0.110559</td>\n",
       "      <td>pubdate_decay_a</td>\n",
       "      <td>0.116769</td>\n",
       "      <td>-0.006210</td>\n",
       "      <td>0.009853</td>\n",
       "      <td>0.003342</td>\n",
       "      <td>True</td>\n",
       "      <td>False</td>\n",
       "    </tr>\n",
       "    <tr>\n",
       "      <th>6</th>\n",
       "      <td>pubdate_decay_e</td>\n",
       "      <td>0.112799</td>\n",
       "      <td>pubdate_decay_d</td>\n",
       "      <td>0.119783</td>\n",
       "      <td>-0.006984</td>\n",
       "      <td>0.007001</td>\n",
       "      <td>0.002733</td>\n",
       "      <td>True</td>\n",
       "      <td>False</td>\n",
       "    </tr>\n",
       "    <tr>\n",
       "      <th>9</th>\n",
       "      <td>default</td>\n",
       "      <td>0.110559</td>\n",
       "      <td>pubdate_decay_d</td>\n",
       "      <td>0.119783</td>\n",
       "      <td>-0.009224</td>\n",
       "      <td>0.007001</td>\n",
       "      <td>0.002714</td>\n",
       "      <td>True</td>\n",
       "      <td>False</td>\n",
       "    </tr>\n",
       "  </tbody>\n",
       "</table>\n",
       "</div>"
      ],
      "text/plain": [
       "           segment1  proportion1         segment2  proportion2      diff  \\\n",
       "12  pubdate_decay_d     0.119783  pubdate_decay_c     0.113755  0.006028   \n",
       "1   pubdate_decay_b     0.114828          default     0.110559  0.004269   \n",
       "13  pubdate_decay_d     0.119783  pubdate_decay_a     0.116769  0.003014   \n",
       "5   pubdate_decay_e     0.112799          default     0.110559  0.002240   \n",
       "0   pubdate_decay_b     0.114828  pubdate_decay_e     0.112799  0.002029   \n",
       "3   pubdate_decay_b     0.114828  pubdate_decay_c     0.113755  0.001073   \n",
       "7   pubdate_decay_e     0.112799  pubdate_decay_c     0.113755 -0.000956   \n",
       "4   pubdate_decay_b     0.114828  pubdate_decay_a     0.116769 -0.001941   \n",
       "14  pubdate_decay_c     0.113755  pubdate_decay_a     0.116769 -0.003014   \n",
       "10          default     0.110559  pubdate_decay_c     0.113755 -0.003196   \n",
       "8   pubdate_decay_e     0.112799  pubdate_decay_a     0.116769 -0.003970   \n",
       "2   pubdate_decay_b     0.114828  pubdate_decay_d     0.119783 -0.004955   \n",
       "11          default     0.110559  pubdate_decay_a     0.116769 -0.006210   \n",
       "6   pubdate_decay_e     0.112799  pubdate_decay_d     0.119783 -0.006984   \n",
       "9           default     0.110559  pubdate_decay_d     0.119783 -0.009224   \n",
       "\n",
       "    smallest_measurable_effect_size  critical_value  significant  \\\n",
       "12                         0.007001        0.002754         True   \n",
       "1                          0.006751        0.002661         True   \n",
       "13                         0.009962        0.003399        False   \n",
       "5                          0.006739        0.002661        False   \n",
       "0                          0.006791        0.002681        False   \n",
       "3                          0.006874        0.002702        False   \n",
       "7                          0.006846        0.002702        False   \n",
       "4                          0.009853        0.003358        False   \n",
       "14                         0.009853        0.003374        False   \n",
       "10                         0.006846        0.002682         True   \n",
       "8                          0.009853        0.003357         True   \n",
       "2                          0.007001        0.002734         True   \n",
       "11                         0.009853        0.003342         True   \n",
       "6                          0.007001        0.002733         True   \n",
       "9                          0.007001        0.002714         True   \n",
       "\n",
       "    signficant_effect_size  \n",
       "12                   False  \n",
       "1                    False  \n",
       "13                   False  \n",
       "5                    False  \n",
       "0                    False  \n",
       "3                    False  \n",
       "7                    False  \n",
       "4                    False  \n",
       "14                   False  \n",
       "10                   False  \n",
       "8                    False  \n",
       "2                    False  \n",
       "11                   False  \n",
       "6                    False  \n",
       "9                    False  "
      ]
     },
     "execution_count": 45,
     "metadata": {},
     "output_type": "execute_result"
    }
   ],
   "source": [
    "# Pre-final step, but NOT the final outcome\n",
    "dfm['significant'] = (abs(dfm['diff']) > dfm['critical_value'])\n",
    "\n",
    "# The final verdict!\n",
    "dfm['signficant_effect_size'] = ( (abs(dfm['diff']) > dfm['critical_value']) & ( dfm['diff'] >= \n",
    "                                 dfm['smallest_measurable_effect_size']) )\n",
    "    \n",
    "# Organize the columns \n",
    "column_order = ['segment1', 'proportion1', 'segment2', 'proportion2', 'diff', 'smallest_measurable_effect_size',\n",
    "                'critical_value', 'significant', 'signficant_effect_size']\n",
    "\n",
    "# Sort by the biggest, statistically significant improvement\n",
    "dfm[column_order].sort_values(['diff', 'signficant_effect_size'], ascending = [False, True])"
   ]
  },
  {
   "cell_type": "markdown",
   "metadata": {},
   "source": [
    "**Final Result:** Only the samples that have a `significant_effect_size` == `True` are ones that we can confidently say we saw a statistically significant difference at the initial alpha and beta levels established."
   ]
  },
  {
   "cell_type": "markdown",
   "metadata": {},
   "source": [
    "### Which segment pairs had a statistically significant difference?"
   ]
  },
  {
   "cell_type": "code",
   "execution_count": 49,
   "metadata": {},
   "outputs": [
    {
     "data": {
      "text/html": [
       "<div>\n",
       "<style scoped>\n",
       "    .dataframe tbody tr th:only-of-type {\n",
       "        vertical-align: middle;\n",
       "    }\n",
       "\n",
       "    .dataframe tbody tr th {\n",
       "        vertical-align: top;\n",
       "    }\n",
       "\n",
       "    .dataframe thead th {\n",
       "        text-align: right;\n",
       "    }\n",
       "</style>\n",
       "<table border=\"1\" class=\"dataframe\">\n",
       "  <thead>\n",
       "    <tr style=\"text-align: right;\">\n",
       "      <th></th>\n",
       "      <th>segment1</th>\n",
       "      <th>segment2</th>\n",
       "    </tr>\n",
       "  </thead>\n",
       "  <tbody>\n",
       "  </tbody>\n",
       "</table>\n",
       "</div>"
      ],
      "text/plain": [
       "Empty DataFrame\n",
       "Columns: [segment1, segment2]\n",
       "Index: []"
      ]
     },
     "execution_count": 49,
     "metadata": {},
     "output_type": "execute_result"
    }
   ],
   "source": [
    "dfm[dfm['signficant_effect_size'] == True][['segment1', 'segment2']]"
   ]
  },
  {
   "cell_type": "markdown",
   "metadata": {},
   "source": [
    "---"
   ]
  },
  {
   "cell_type": "markdown",
   "metadata": {},
   "source": [
    "**STYLE: Add color to all headers**"
   ]
  },
  {
   "cell_type": "code",
   "execution_count": 31,
   "metadata": {},
   "outputs": [
    {
     "data": {
      "text/html": [
       "<style>\n",
       "h1   {color: green;}\n",
       "h2   {color: blue;}\n",
       "h5   {color: red;}           \n",
       "</style>"
      ],
      "text/plain": [
       "<IPython.core.display.HTML object>"
      ]
     },
     "metadata": {},
     "output_type": "display_data"
    }
   ],
   "source": [
    "%%html\n",
    "<style>\n",
    "h1   {color: green;}\n",
    "h2   {color: blue;}\n",
    "h5   {color: red;}           \n",
    "</style>"
   ]
  },
  {
   "cell_type": "code",
   "execution_count": null,
   "metadata": {},
   "outputs": [],
   "source": []
  }
 ],
 "metadata": {
  "kernelspec": {
   "display_name": "Python 3",
   "language": "python",
   "name": "python3"
  },
  "language_info": {
   "codemirror_mode": {
    "name": "ipython",
    "version": 3
   },
   "file_extension": ".py",
   "mimetype": "text/x-python",
   "name": "python",
   "nbconvert_exporter": "python",
   "pygments_lexer": "ipython3",
   "version": "3.6.4"
  }
 },
 "nbformat": 4,
 "nbformat_minor": 2
}
